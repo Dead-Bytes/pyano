{
 "cells": [
  {
   "cell_type": "code",
   "execution_count": 1,
   "metadata": {},
   "outputs": [
    {
     "name": "stderr",
     "output_type": "stream",
     "text": [
      "/home/deadbytes/Documents/ML/lib/python3.12/site-packages/tqdm/auto.py:21: TqdmWarning: IProgress not found. Please update jupyter and ipywidgets. See https://ipywidgets.readthedocs.io/en/stable/user_install.html\n",
      "  from .autonotebook import tqdm as notebook_tqdm\n"
     ]
    }
   ],
   "source": [
    "import torch \n",
    "import transformers"
   ]
  },
  {
   "cell_type": "code",
   "execution_count": 2,
   "metadata": {},
   "outputs": [
    {
     "name": "stderr",
     "output_type": "stream",
     "text": [
      "/home/deadbytes/Documents/ML/lib/python3.12/site-packages/huggingface_hub/file_download.py:1132: FutureWarning: `resume_download` is deprecated and will be removed in version 1.0.0. Downloads always resume when possible. If you want to force a new download, use `force_download=True`.\n",
      "  warnings.warn(\n"
     ]
    }
   ],
   "source": [
    "import torch\n",
    "from transformers import RobertaModel, RobertaConfig\n",
    "\n",
    "class CustomCodeBERTModel(RobertaModel):\n",
    "    def __init__(self, config, remove_layer_idx):\n",
    "        super().__init__(config)\n",
    "        # Remove the specified encoder layer\n",
    "        if 0 <= remove_layer_idx < config.num_hidden_layers:\n",
    "            self.encoder.layer = torch.nn.ModuleList(\n",
    "                [layer for i, layer in enumerate(self.encoder.layer) if i != remove_layer_idx]\n",
    "            )\n",
    "            # Update the number of layers in the config\n",
    "            self.config.num_hidden_layers -= 1\n",
    "        else:\n",
    "            raise ValueError(\"Layer index to remove is out of range.\")\n",
    "\n",
    "# Load CodeBERT configuration\n",
    "config = RobertaConfig.from_pretrained('microsoft/codebert-base')\n",
    "\n",
    "# Create the modified CodeBERT model with layer 5 removed\n",
    "model = CustomCodeBERTModel.from_pretrained('microsoft/codebert-base', config=config, remove_layer_idx=5)\n"
   ]
  },
  {
   "cell_type": "code",
   "execution_count": 5,
   "metadata": {},
   "outputs": [],
   "source": [
    "def load_custom_weights(model, pretrained_model_name, remove_layer_idx):\n",
    "    # Load the original pretrained weights\n",
    "    pretrained_state_dict = RobertaModel.from_pretrained(pretrained_model_name).state_dict()\n",
    "\n",
    "    # Create a new state dict without the weights of the removed layer\n",
    "    custom_state_dict = {}\n",
    "    for key, value in pretrained_state_dict.items():\n",
    "        # Check if the key belongs to an encoder layer\n",
    "        if \"encoder.layer\" in key:\n",
    "            layer_idx = int(key.split('.')[2])\n",
    "            # Skip weights from the removed layer\n",
    "            if layer_idx != remove_layer_idx:\n",
    "                # Adjust layer numbering if necessary\n",
    "                if layer_idx > remove_layer_idx:\n",
    "                    # Decrement the layer index in the key by 1\n",
    "                    new_key = key.replace(f\"encoder.layer.{layer_idx}.\", f\"encoder.layer.{layer_idx-1}.\")\n",
    "                    custom_state_dict[new_key] = value\n",
    "                else:\n",
    "                    custom_state_dict[key] = value\n",
    "        else:\n",
    "            # For other keys (e.g., embeddings, pooler), keep them unchanged\n",
    "            custom_state_dict[key] = value\n",
    "    \n",
    "    # Load the adjusted state dict into the modified model\n",
    "    model.load_state_dict(custom_state_dict, strict=False)\n",
    "\n",
    "# Load custom weights after removing layer 5\n",
    "load_custom_weights(model, 'microsoft/codebert-base', remove_layer_idx=5)\n"
   ]
  },
  {
   "cell_type": "code",
   "execution_count": 6,
   "metadata": {},
   "outputs": [
    {
     "data": {
      "text/plain": [
       "CustomCodeBERTModel(\n",
       "  (embeddings): RobertaEmbeddings(\n",
       "    (word_embeddings): Embedding(50265, 768, padding_idx=1)\n",
       "    (position_embeddings): Embedding(514, 768, padding_idx=1)\n",
       "    (token_type_embeddings): Embedding(1, 768)\n",
       "    (LayerNorm): LayerNorm((768,), eps=1e-05, elementwise_affine=True)\n",
       "    (dropout): Dropout(p=0.1, inplace=False)\n",
       "  )\n",
       "  (encoder): RobertaEncoder(\n",
       "    (layer): ModuleList(\n",
       "      (0-10): 11 x RobertaLayer(\n",
       "        (attention): RobertaAttention(\n",
       "          (self): RobertaSelfAttention(\n",
       "            (query): Linear(in_features=768, out_features=768, bias=True)\n",
       "            (key): Linear(in_features=768, out_features=768, bias=True)\n",
       "            (value): Linear(in_features=768, out_features=768, bias=True)\n",
       "            (dropout): Dropout(p=0.1, inplace=False)\n",
       "          )\n",
       "          (output): RobertaSelfOutput(\n",
       "            (dense): Linear(in_features=768, out_features=768, bias=True)\n",
       "            (LayerNorm): LayerNorm((768,), eps=1e-05, elementwise_affine=True)\n",
       "            (dropout): Dropout(p=0.1, inplace=False)\n",
       "          )\n",
       "        )\n",
       "        (intermediate): RobertaIntermediate(\n",
       "          (dense): Linear(in_features=768, out_features=3072, bias=True)\n",
       "          (intermediate_act_fn): GELUActivation()\n",
       "        )\n",
       "        (output): RobertaOutput(\n",
       "          (dense): Linear(in_features=3072, out_features=768, bias=True)\n",
       "          (LayerNorm): LayerNorm((768,), eps=1e-05, elementwise_affine=True)\n",
       "          (dropout): Dropout(p=0.1, inplace=False)\n",
       "        )\n",
       "      )\n",
       "    )\n",
       "  )\n",
       "  (pooler): RobertaPooler(\n",
       "    (dense): Linear(in_features=768, out_features=768, bias=True)\n",
       "    (activation): Tanh()\n",
       "  )\n",
       ")"
      ]
     },
     "execution_count": 6,
     "metadata": {},
     "output_type": "execute_result"
    }
   ],
   "source": [
    "model.eval()"
   ]
  },
  {
   "cell_type": "code",
   "execution_count": 7,
   "metadata": {},
   "outputs": [],
   "source": [
    "import pandas as pd "
   ]
  },
  {
   "cell_type": "code",
   "execution_count": 9,
   "metadata": {},
   "outputs": [],
   "source": [
    "java = pd.read_json('java_test_0.jsonl', lines=True)"
   ]
  },
  {
   "cell_type": "code",
   "execution_count": 11,
   "metadata": {},
   "outputs": [
    {
     "data": {
      "text/plain": [
       "26909"
      ]
     },
     "execution_count": 11,
     "metadata": {},
     "output_type": "execute_result"
    }
   ],
   "source": [
    "len(java)"
   ]
  },
  {
   "cell_type": "code",
   "execution_count": null,
   "metadata": {},
   "outputs": [],
   "source": []
  }
 ],
 "metadata": {
  "kernelspec": {
   "display_name": "ML",
   "language": "python",
   "name": "python3"
  },
  "language_info": {
   "codemirror_mode": {
    "name": "ipython",
    "version": 3
   },
   "file_extension": ".py",
   "mimetype": "text/x-python",
   "name": "python",
   "nbconvert_exporter": "python",
   "pygments_lexer": "ipython3",
   "version": "3.12.3"
  }
 },
 "nbformat": 4,
 "nbformat_minor": 2
}
